{
    "nbformat_minor": 1, 
    "cells": [
        {
            "source": "## The Battle of the Neighborhoods (Week 1) Part 1", 
            "cell_type": "markdown", 
            "metadata": {}
        }, 
        {
            "source": "### Introduction & Business Problem :", 
            "cell_type": "markdown", 
            "metadata": {}
        }, 
        {
            "source": "##### Problem Background:", 
            "cell_type": "markdown", 
            "metadata": {}
        }, 
        {
            "source": "As part of the final IBM Capstone project, we will carry out an analysis that a data scientist could perform in his professional practice when faced with a real problem. The objectives of this project will be to define a problem, search for data in the available media (commonly on the internet and use the resources provided by Foursquare to enrich the analysis of the different neighborhoods of the selected city. For this case, I will choose the city of Toronto Ontario, Canada.\n\nToronto is a city considered multicultural, with an excellent standard of living, tourist attractions, universities and institutions for learning languages and technology. This tourist and academic offer generates an important demand of places for lodging of all kinds, either for students with stays of 90 days up to 6 months, as for sporadic tourists who only seek to stay a couple of nights. Currently, the AirBnB platform provides additional accommodation options to the normal offer of traditional hotels, guest houses and hostels.\n\n\nThis means that the market is highly competitive. As it is a highly quoted destination in Canada, the cost of staying in Toronto (lodging, food, transportation, amenities, etc.) is considerable. Therefore, it is vital to have good information to choose a place of accommodation that allows to balance the expenses of stay. Additionally, the thousands of offers available on the AirBnB platform make the search a stressful challenge, and sometimes, subject to \u201cgood luck\u201d.", 
            "cell_type": "markdown", 
            "metadata": {}
        }, 
        {
            "source": "##### Problem Description:", 
            "cell_type": "markdown", 
            "metadata": {}
        }, 
        {
            "source": "The basis of this project aims to help the community of AirBnB users, mainly exchange students, tourists interested in Toronto as a vacation destination, or even a potential entrepreneur who wants to become a \u201chost\u201d to have a useful tool that allows them to process the considerable volume of data to \"discover\":\n\n\u2022 What are the different types of properties available in this city?\n\n\u2022 What are the neighborhoods with the most lodging offer?\n\n\u2022 What are the average prices by type of property for accommodation?\n\nAnd even help an entrepreneur interested in promoting accommodation in AirBnB to know:\n\n\u2022 What would be a competitive price to offer? according to your type of property and neighborhood where it is located.\n\nThis project also seeks to take advantage and extend the experience already acquired in previous years and enrich it with data from the AirBnB bases.\n", 
            "cell_type": "markdown", 
            "metadata": {}
        }
    ], 
    "metadata": {
        "kernelspec": {
            "display_name": "Python 3.6", 
            "name": "python3", 
            "language": "python"
        }, 
        "language_info": {
            "mimetype": "text/x-python", 
            "nbconvert_exporter": "python", 
            "version": "3.6.8", 
            "name": "python", 
            "file_extension": ".py", 
            "pygments_lexer": "ipython3", 
            "codemirror_mode": {
                "version": 3, 
                "name": "ipython"
            }
        }
    }, 
    "nbformat": 4
}