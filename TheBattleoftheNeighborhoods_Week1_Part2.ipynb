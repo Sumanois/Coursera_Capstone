{
    "nbformat_minor": 1, 
    "cells": [
        {
            "source": "### The Battle of the Neighborhoods (Week 1) Part 2", 
            "cell_type": "markdown", 
            "metadata": {}
        }, 
        {
            "source": "### Data:", 
            "cell_type": "markdown", 
            "metadata": {}
        }, 
        {
            "source": "#### City chosen for this project: Toronto, Ontario, Canad\u00e1.", 
            "cell_type": "markdown", 
            "metadata": {}
        }, 
        {
            "source": "#### Data 1 :\n\nThe source of our data from AirBnB will be:\n\n   http://data.insideairbnb.com/canada/on/toronto/2019-08-08/visualisations/listings.csv\n            \nThis csv file is date compiled 08 August, 2019 and it contains the following columns:  \n\u2022\tid\t\n\u2022\tname\t\n\u2022\thost_id\t\n\u2022\thost_name\t\n\u2022\tneighbourhood_group\t\n\u2022\tneighbourhood\t\n\u2022\tlatitude\t\n\u2022\tlongitude\t\n\u2022\troom_type\t\n\u2022\tprice\t\n\u2022\tminimum_nights\t\n\u2022\tnumber_of_reviews\t\n\u2022\tlast_review\t\n\u2022\treviews_per_month\t\n\u2022\tcalculated_host_listings_count\t\n\u2022\tavailability_365\n\nThis data set will be the main source for the analysis processes of this project.", 
            "cell_type": "markdown", 
            "metadata": {}
        }, 
        {
            "source": "#### Data 2 : \n\nThe source of our data is in the following link https://en.wikipedia.org/wiki/List_of_postal_codes_of_Canada:_M\nso it will be necessary to extract its content, supported by BeautifulSoup libraries.\n\nThere are:\n\n\u2022\t180 Postal codes\n\u2022\t11 Boroughs\n\u2022\t208 Neighborhoods\n\nObviously, it will be necessary to clean and choose certain neighborhoods, as we integrate the data obtained from AirBnB", 
            "cell_type": "markdown", 
            "metadata": {
                "collapsed": true
            }
        }, 
        {
            "source": "#### Data 3 :\n\nWe will use the Foursquare API to explore neighborhoods in the city of Toronto. Additionally, the Foursquare API data will help us to show the locations of the accommodations and obtain additional information about the neighborhoods (restaurants, hotels, amenities, etc.)", 
            "cell_type": "markdown", 
            "metadata": {}
        }
    ], 
    "metadata": {
        "kernelspec": {
            "display_name": "Python 3.6", 
            "name": "python3", 
            "language": "python"
        }, 
        "language_info": {
            "mimetype": "text/x-python", 
            "nbconvert_exporter": "python", 
            "version": "3.6.8", 
            "name": "python", 
            "file_extension": ".py", 
            "pygments_lexer": "ipython3", 
            "codemirror_mode": {
                "version": 3, 
                "name": "ipython"
            }
        }
    }, 
    "nbformat": 4
}